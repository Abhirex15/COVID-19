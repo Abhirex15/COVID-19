{
  "nbformat": 4,
  "nbformat_minor": 0,
  "metadata": {
    "kernelspec": {
      "display_name": "Python 3",
      "language": "python",
      "name": "python3"
    },
    "language_info": {
      "codemirror_mode": {
        "name": "ipython",
        "version": 3
      },
      "file_extension": ".py",
      "mimetype": "text/x-python",
      "name": "python",
      "nbconvert_exporter": "python",
      "pygments_lexer": "ipython3",
      "version": "3.7.0"
    },
    "colab": {
      "name": "Covid_analysis.ipynb",
      "provenance": [],
      "include_colab_link": true
    }
  },
  "cells": [
    {
      "cell_type": "markdown",
      "metadata": {
        "id": "view-in-github",
        "colab_type": "text"
      },
      "source": [
        "<a href=\"https://colab.research.google.com/github/Abhirex15/COVID-19/blob/master/Covid_analysis.ipynb\" target=\"_parent\"><img src=\"https://colab.research.google.com/assets/colab-badge.svg\" alt=\"Open In Colab\"/></a>"
      ]
    },
    {
      "cell_type": "code",
      "metadata": {
        "id": "UkvvzOYb_q_B",
        "colab": {
          "base_uri": "https://localhost:8080/",
          "height": 70
        },
        "outputId": "cff2d0cb-9283-4b5e-c89f-ba0f16edabf6"
      },
      "source": [
        "import pandas as pd\n",
        "import numpy as np\n",
        "import matplotlib.pyplot as plt\n",
        "import seaborn as sns\n",
        "import datetime as dt\n",
        "from datetime import timedelta\n",
        "from sklearn.linear_model import LinearRegression\n",
        "from sklearn.svm import SVR\n",
        "#from statsmodels.tsa.api import Holt"
      ],
      "execution_count": null,
      "outputs": [
        {
          "output_type": "stream",
          "text": [
            "/usr/local/lib/python3.6/dist-packages/statsmodels/tools/_testing.py:19: FutureWarning: pandas.util.testing is deprecated. Use the functions in the public API at pandas.testing instead.\n",
            "  import pandas.util.testing as tm\n"
          ],
          "name": "stderr"
        }
      ]
    },
    {
      "cell_type": "code",
      "metadata": {
        "id": "txcE_b4x_q_H"
      },
      "source": [
        "df = pd.read_csv(\"covid_19_data.csv\")"
      ],
      "execution_count": null,
      "outputs": []
    },
    {
      "cell_type": "code",
      "metadata": {
        "id": "mZywfpXu_q_N",
        "colab": {
          "base_uri": "https://localhost:8080/",
          "height": 195
        },
        "outputId": "11de158e-c874-4fc3-bc3f-e8acf0525153"
      },
      "source": [
        "df.head()"
      ],
      "execution_count": null,
      "outputs": [
        {
          "output_type": "execute_result",
          "data": {
            "text/html": [
              "<div>\n",
              "<style scoped>\n",
              "    .dataframe tbody tr th:only-of-type {\n",
              "        vertical-align: middle;\n",
              "    }\n",
              "\n",
              "    .dataframe tbody tr th {\n",
              "        vertical-align: top;\n",
              "    }\n",
              "\n",
              "    .dataframe thead th {\n",
              "        text-align: right;\n",
              "    }\n",
              "</style>\n",
              "<table border=\"1\" class=\"dataframe\">\n",
              "  <thead>\n",
              "    <tr style=\"text-align: right;\">\n",
              "      <th></th>\n",
              "      <th>SNo</th>\n",
              "      <th>ObservationDate</th>\n",
              "      <th>Province/State</th>\n",
              "      <th>Country/Region</th>\n",
              "      <th>Last Update</th>\n",
              "      <th>Confirmed</th>\n",
              "      <th>Deaths</th>\n",
              "      <th>Recovered</th>\n",
              "    </tr>\n",
              "  </thead>\n",
              "  <tbody>\n",
              "    <tr>\n",
              "      <th>0</th>\n",
              "      <td>1</td>\n",
              "      <td>01/22/2020</td>\n",
              "      <td>Anhui</td>\n",
              "      <td>Mainland China</td>\n",
              "      <td>1/22/2020 17:00</td>\n",
              "      <td>1.0</td>\n",
              "      <td>0.0</td>\n",
              "      <td>0.0</td>\n",
              "    </tr>\n",
              "    <tr>\n",
              "      <th>1</th>\n",
              "      <td>2</td>\n",
              "      <td>01/22/2020</td>\n",
              "      <td>Beijing</td>\n",
              "      <td>Mainland China</td>\n",
              "      <td>1/22/2020 17:00</td>\n",
              "      <td>14.0</td>\n",
              "      <td>0.0</td>\n",
              "      <td>0.0</td>\n",
              "    </tr>\n",
              "    <tr>\n",
              "      <th>2</th>\n",
              "      <td>3</td>\n",
              "      <td>01/22/2020</td>\n",
              "      <td>Chongqing</td>\n",
              "      <td>Mainland China</td>\n",
              "      <td>1/22/2020 17:00</td>\n",
              "      <td>6.0</td>\n",
              "      <td>0.0</td>\n",
              "      <td>0.0</td>\n",
              "    </tr>\n",
              "    <tr>\n",
              "      <th>3</th>\n",
              "      <td>4</td>\n",
              "      <td>01/22/2020</td>\n",
              "      <td>Fujian</td>\n",
              "      <td>Mainland China</td>\n",
              "      <td>1/22/2020 17:00</td>\n",
              "      <td>1.0</td>\n",
              "      <td>0.0</td>\n",
              "      <td>0.0</td>\n",
              "    </tr>\n",
              "    <tr>\n",
              "      <th>4</th>\n",
              "      <td>5</td>\n",
              "      <td>01/22/2020</td>\n",
              "      <td>Gansu</td>\n",
              "      <td>Mainland China</td>\n",
              "      <td>1/22/2020 17:00</td>\n",
              "      <td>0.0</td>\n",
              "      <td>0.0</td>\n",
              "      <td>0.0</td>\n",
              "    </tr>\n",
              "  </tbody>\n",
              "</table>\n",
              "</div>"
            ],
            "text/plain": [
              "   SNo ObservationDate Province/State  ... Confirmed Deaths  Recovered\n",
              "0    1      01/22/2020          Anhui  ...       1.0    0.0        0.0\n",
              "1    2      01/22/2020        Beijing  ...      14.0    0.0        0.0\n",
              "2    3      01/22/2020      Chongqing  ...       6.0    0.0        0.0\n",
              "3    4      01/22/2020         Fujian  ...       1.0    0.0        0.0\n",
              "4    5      01/22/2020          Gansu  ...       0.0    0.0        0.0\n",
              "\n",
              "[5 rows x 8 columns]"
            ]
          },
          "metadata": {
            "tags": []
          },
          "execution_count": 4
        }
      ]
    },
    {
      "cell_type": "code",
      "metadata": {
        "id": "3MuNFZbW_q_T",
        "colab": {
          "base_uri": "https://localhost:8080/",
          "height": 34
        },
        "outputId": "d93a6cd0-962b-45c1-e85a-92dfd5d37532"
      },
      "source": [
        "df.shape"
      ],
      "execution_count": null,
      "outputs": [
        {
          "output_type": "execute_result",
          "data": {
            "text/plain": [
              "(18327, 8)"
            ]
          },
          "metadata": {
            "tags": []
          },
          "execution_count": 5
        }
      ]
    },
    {
      "cell_type": "code",
      "metadata": {
        "id": "KznRXIxX_q_Y",
        "colab": {
          "base_uri": "https://localhost:8080/",
          "height": 168
        },
        "outputId": "2a3c073f-3ea8-40f3-b405-44d6c39237f4"
      },
      "source": [
        "df.dtypes"
      ],
      "execution_count": null,
      "outputs": [
        {
          "output_type": "execute_result",
          "data": {
            "text/plain": [
              "SNo                  int64\n",
              "ObservationDate     object\n",
              "Province/State      object\n",
              "Country/Region      object\n",
              "Last Update         object\n",
              "Confirmed          float64\n",
              "Deaths             float64\n",
              "Recovered          float64\n",
              "dtype: object"
            ]
          },
          "metadata": {
            "tags": []
          },
          "execution_count": 6
        }
      ]
    },
    {
      "cell_type": "code",
      "metadata": {
        "id": "_icapwJ9_q_d",
        "colab": {
          "base_uri": "https://localhost:8080/",
          "height": 168
        },
        "outputId": "9bac8621-7918-4baa-a151-f069eb259f46"
      },
      "source": [
        "#checking if there any null values in the datset\n",
        "df.isnull().sum()"
      ],
      "execution_count": null,
      "outputs": [
        {
          "output_type": "execute_result",
          "data": {
            "text/plain": [
              "SNo                   0\n",
              "ObservationDate       0\n",
              "Province/State     9277\n",
              "Country/Region        0\n",
              "Last Update           0\n",
              "Confirmed             0\n",
              "Deaths                0\n",
              "Recovered             0\n",
              "dtype: int64"
            ]
          },
          "metadata": {
            "tags": []
          },
          "execution_count": 7
        }
      ]
    },
    {
      "cell_type": "code",
      "metadata": {
        "id": "haO4YHQA_q_j"
      },
      "source": [
        "df.drop(['SNo'],1,inplace=True)"
      ],
      "execution_count": null,
      "outputs": []
    },
    {
      "cell_type": "code",
      "metadata": {
        "id": "Lg9gZdw__q_o",
        "colab": {
          "base_uri": "https://localhost:8080/",
          "height": 151
        },
        "outputId": "be88e0ee-fea9-42e3-c455-723b4ac125c7"
      },
      "source": [
        "df.isnull().sum()"
      ],
      "execution_count": null,
      "outputs": [
        {
          "output_type": "execute_result",
          "data": {
            "text/plain": [
              "ObservationDate       0\n",
              "Province/State     9277\n",
              "Country/Region        0\n",
              "Last Update           0\n",
              "Confirmed             0\n",
              "Deaths                0\n",
              "Recovered             0\n",
              "dtype: int64"
            ]
          },
          "metadata": {
            "tags": []
          },
          "execution_count": 9
        }
      ]
    },
    {
      "cell_type": "code",
      "metadata": {
        "id": "61hOckSU_q_t",
        "colab": {
          "base_uri": "https://localhost:8080/",
          "height": 195
        },
        "outputId": "80a00192-1910-4324-8a6c-59a920a4a0cb"
      },
      "source": [
        "df['ObservationDate'] = pd.to_datetime(df['ObservationDate'])\n",
        "df.head()"
      ],
      "execution_count": null,
      "outputs": [
        {
          "output_type": "execute_result",
          "data": {
            "text/html": [
              "<div>\n",
              "<style scoped>\n",
              "    .dataframe tbody tr th:only-of-type {\n",
              "        vertical-align: middle;\n",
              "    }\n",
              "\n",
              "    .dataframe tbody tr th {\n",
              "        vertical-align: top;\n",
              "    }\n",
              "\n",
              "    .dataframe thead th {\n",
              "        text-align: right;\n",
              "    }\n",
              "</style>\n",
              "<table border=\"1\" class=\"dataframe\">\n",
              "  <thead>\n",
              "    <tr style=\"text-align: right;\">\n",
              "      <th></th>\n",
              "      <th>ObservationDate</th>\n",
              "      <th>Province/State</th>\n",
              "      <th>Country/Region</th>\n",
              "      <th>Last Update</th>\n",
              "      <th>Confirmed</th>\n",
              "      <th>Deaths</th>\n",
              "      <th>Recovered</th>\n",
              "    </tr>\n",
              "  </thead>\n",
              "  <tbody>\n",
              "    <tr>\n",
              "      <th>0</th>\n",
              "      <td>2020-01-22</td>\n",
              "      <td>Anhui</td>\n",
              "      <td>Mainland China</td>\n",
              "      <td>1/22/2020 17:00</td>\n",
              "      <td>1.0</td>\n",
              "      <td>0.0</td>\n",
              "      <td>0.0</td>\n",
              "    </tr>\n",
              "    <tr>\n",
              "      <th>1</th>\n",
              "      <td>2020-01-22</td>\n",
              "      <td>Beijing</td>\n",
              "      <td>Mainland China</td>\n",
              "      <td>1/22/2020 17:00</td>\n",
              "      <td>14.0</td>\n",
              "      <td>0.0</td>\n",
              "      <td>0.0</td>\n",
              "    </tr>\n",
              "    <tr>\n",
              "      <th>2</th>\n",
              "      <td>2020-01-22</td>\n",
              "      <td>Chongqing</td>\n",
              "      <td>Mainland China</td>\n",
              "      <td>1/22/2020 17:00</td>\n",
              "      <td>6.0</td>\n",
              "      <td>0.0</td>\n",
              "      <td>0.0</td>\n",
              "    </tr>\n",
              "    <tr>\n",
              "      <th>3</th>\n",
              "      <td>2020-01-22</td>\n",
              "      <td>Fujian</td>\n",
              "      <td>Mainland China</td>\n",
              "      <td>1/22/2020 17:00</td>\n",
              "      <td>1.0</td>\n",
              "      <td>0.0</td>\n",
              "      <td>0.0</td>\n",
              "    </tr>\n",
              "    <tr>\n",
              "      <th>4</th>\n",
              "      <td>2020-01-22</td>\n",
              "      <td>Gansu</td>\n",
              "      <td>Mainland China</td>\n",
              "      <td>1/22/2020 17:00</td>\n",
              "      <td>0.0</td>\n",
              "      <td>0.0</td>\n",
              "      <td>0.0</td>\n",
              "    </tr>\n",
              "  </tbody>\n",
              "</table>\n",
              "</div>"
            ],
            "text/plain": [
              "  ObservationDate Province/State  Country/Region  ... Confirmed  Deaths  Recovered\n",
              "0      2020-01-22          Anhui  Mainland China  ...       1.0     0.0        0.0\n",
              "1      2020-01-22        Beijing  Mainland China  ...      14.0     0.0        0.0\n",
              "2      2020-01-22      Chongqing  Mainland China  ...       6.0     0.0        0.0\n",
              "3      2020-01-22         Fujian  Mainland China  ...       1.0     0.0        0.0\n",
              "4      2020-01-22          Gansu  Mainland China  ...       0.0     0.0        0.0\n",
              "\n",
              "[5 rows x 7 columns]"
            ]
          },
          "metadata": {
            "tags": []
          },
          "execution_count": 10
        }
      ]
    },
    {
      "cell_type": "code",
      "metadata": {
        "id": "bZ1BDgv7_q_y"
      },
      "source": [
        "#let's group the cases in different dates\n",
        "df_datewise = df.groupby(['ObservationDate']).agg({\"Confirmed\":\"sum\",\"Recovered\":\"sum\",\"Deaths\":\"sum\"})\n"
      ],
      "execution_count": null,
      "outputs": []
    },
    {
      "cell_type": "code",
      "metadata": {
        "id": "BHqcKxzA_q_2",
        "colab": {
          "base_uri": "https://localhost:8080/",
          "height": 34
        },
        "outputId": "0342c732-2b3d-4521-b2c5-d5d128a5c969"
      },
      "source": [
        "print(df_datewise[\"Confirmed\"].iloc[-1],\"|||\",\n",
        "df_datewise[\"Recovered\"].iloc[-1],\"|||\",\n",
        "df_datewise[\"Deaths\"].iloc[-1])"
      ],
      "execution_count": null,
      "outputs": [
        {
          "output_type": "stream",
          "text": [
            "2811193.0 ||| 793601.0 ||| 197159.0\n"
          ],
          "name": "stdout"
        }
      ]
    },
    {
      "cell_type": "code",
      "metadata": {
        "id": "bDlRB7su_q_6",
        "colab": {
          "base_uri": "https://localhost:8080/",
          "height": 50
        },
        "outputId": "efd89ee1-a2bc-462a-e71a-292dd9f092a8"
      },
      "source": [
        "print(\"Total Active Cases\")\n",
        "print(df_datewise[\"Confirmed\"].iloc[-1]-df_datewise[\"Recovered\"].iloc[-1]-\n",
        "df_datewise[\"Deaths\"].iloc[-1])"
      ],
      "execution_count": null,
      "outputs": [
        {
          "output_type": "stream",
          "text": [
            "Total Active Cases\n",
            "1820433.0\n"
          ],
          "name": "stdout"
        }
      ]
    },
    {
      "cell_type": "code",
      "metadata": {
        "id": "EXGjNusJ_rAA",
        "colab": {
          "base_uri": "https://localhost:8080/",
          "height": 50
        },
        "outputId": "58442908-6764-41c9-da0a-8fe168a41e43"
      },
      "source": [
        "print(\"Total Closed Cases\")\n",
        "print(df_datewise[\"Recovered\"].iloc[-1]+\n",
        "df_datewise[\"Deaths\"].iloc[-1])"
      ],
      "execution_count": null,
      "outputs": [
        {
          "output_type": "stream",
          "text": [
            "Total Closed Cases\n",
            "990760.0\n"
          ],
          "name": "stdout"
        }
      ]
    },
    {
      "cell_type": "code",
      "metadata": {
        "id": "jJWmiyJp_rAD",
        "colab": {
          "base_uri": "https://localhost:8080/",
          "height": 502
        },
        "outputId": "b0f8a02c-ac95-4b0f-ef86-7b5d3af28b56"
      },
      "source": [
        "plt.figure(figsize=(15,5))\n",
        "sns.barplot(x=df_datewise.index.date, y=df_datewise[\"Confirmed\"]-df_datewise[\"Recovered\"]-\n",
        "df_datewise[\"Deaths\"])\n",
        "plt.title(\"Distributions of Active cases\")\n",
        "plt.xticks(rotation=90)\n"
      ],
      "execution_count": null,
      "outputs": [
        {
          "output_type": "execute_result",
          "data": {
            "text/plain": [
              "(array([ 0,  1,  2,  3,  4,  5,  6,  7,  8,  9, 10, 11, 12, 13, 14, 15, 16,\n",
              "        17, 18, 19, 20, 21, 22, 23, 24, 25, 26, 27, 28, 29, 30, 31, 32, 33,\n",
              "        34, 35, 36, 37, 38, 39, 40, 41, 42, 43, 44, 45, 46, 47, 48, 49, 50,\n",
              "        51, 52, 53, 54, 55, 56, 57, 58, 59, 60, 61, 62, 63, 64, 65, 66, 67,\n",
              "        68, 69, 70, 71, 72, 73, 74, 75, 76, 77, 78, 79, 80, 81, 82, 83, 84,\n",
              "        85, 86, 87, 88, 89, 90, 91, 92, 93]),\n",
              " <a list of 94 Text major ticklabel objects>)"
            ]
          },
          "metadata": {
            "tags": []
          },
          "execution_count": 15
        },
        {
          "output_type": "display_data",
          "data": {
            "image/png": "[encoded data removed]",
            "text/plain": [
              "<Figure size 1080x360 with 1 Axes>"
            ]
          },
          "metadata": {
            "tags": [],
            "needs_background": "light"
          }
        }
      ]
    },
    {
      "cell_type": "code",
      "metadata": {
        "id": "r2mvYo8C_rAG",
        "colab": {
          "base_uri": "https://localhost:8080/",
          "height": 502
        },
        "outputId": "ee637c49-05e2-421e-f18c-0d253cc99127"
      },
      "source": [
        "plt.figure(figsize=(15,5))\n",
        "sns.barplot(x=df_datewise.index.date, y=df_datewise[\"Recovered\"]+\n",
        "df_datewise[\"Deaths\"])\n",
        "plt.title(\"Distributions of Closed cases\")\n",
        "plt.xticks(rotation=90)\n"
      ],
      "execution_count": null,
      "outputs": [
        {
          "output_type": "execute_result",
          "data": {
            "text/plain": [
              "(array([ 0,  1,  2,  3,  4,  5,  6,  7,  8,  9, 10, 11, 12, 13, 14, 15, 16,\n",
              "        17, 18, 19, 20, 21, 22, 23, 24, 25, 26, 27, 28, 29, 30, 31, 32, 33,\n",
              "        34, 35, 36, 37, 38, 39, 40, 41, 42, 43, 44, 45, 46, 47, 48, 49, 50,\n",
              "        51, 52, 53, 54, 55, 56, 57, 58, 59, 60, 61, 62, 63, 64, 65, 66, 67,\n",
              "        68, 69, 70, 71, 72, 73, 74, 75, 76, 77, 78, 79, 80, 81, 82, 83, 84,\n",
              "        85, 86, 87, 88, 89, 90, 91, 92, 93]),\n",
              " <a list of 94 Text major ticklabel objects>)"
            ]
          },
          "metadata": {
            "tags": []
          },
          "execution_count": 16
        },
        {
          "output_type": "display_data",
          "data": {
            "image/png": "[encoded data removed]",
            "text/plain": [
              "<Figure size 1080x360 with 1 Axes>"
            ]
          },
          "metadata": {
            "tags": [],
            "needs_background": "light"
          }
        }
      ]
    },
    {
      "cell_type": "code",
      "metadata": {
        "id": "3u1UYyLn_rAK",
        "colab": {
          "base_uri": "https://localhost:8080/",
          "height": 367
        },
        "outputId": "e64d4017-9dbe-4750-f944-c420576b1907"
      },
      "source": [
        "#Lets do it in weekwise\n",
        "df_datewise[\"Week of Year\"] = df_datewise.index.weekofyear\n",
        "week_number = []\n",
        "weekwise_confirmed = []\n",
        "weekwise_deaths = []\n",
        "weekwise_recovered = []\n",
        "w = 1\n",
        "for i in list(df_datewise['Week of Year'].unique()):\n",
        "    weekwise_confirmed.append(df_datewise[df_datewise[\"Week of Year\"] == i][\"Confirmed\"].iloc[-1])\n",
        "    weekwise_recovered.append(df_datewise[df_datewise[\"Week of Year\"] == i][\"Recovered\"].iloc[-1])\n",
        "    weekwise_deaths.append(df_datewise[df_datewise[\"Week of Year\"] == i][\"Deaths\"].iloc[-1])\n",
        "    week_number.append(w)\n",
        "    w = w + 1\n",
        "    \n",
        "plt.figure(figsize=(8,5))\n",
        "plt.plot(weekwise_confirmed,linewidth=3)\n",
        "plt.plot(weekwise_recovered,linewidth=3)\n",
        "plt.plot(weekwise_deaths,linewidth=3)\n",
        "plt.xlabel(\"Week Number\")\n",
        "plt.ylabel(\"Number of Cases\")\n",
        "plt.title(\"Weekly progress of different types of Cases\")\n",
        "\n"
      ],
      "execution_count": null,
      "outputs": [
        {
          "output_type": "execute_result",
          "data": {
            "text/plain": [
              "Text(0.5, 1.0, 'Weekly progress of different types of Cases')"
            ]
          },
          "metadata": {
            "tags": []
          },
          "execution_count": 17
        },
        {
          "output_type": "display_data",
          "data": {
            "image/png": "[encoded data removed]",
            "text/plain": [
              "<Figure size 576x360 with 1 Axes>"
            ]
          },
          "metadata": {
            "tags": [],
            "needs_background": "light"
          }
        }
      ]
    },
    {
      "cell_type": "code",
      "metadata": {
        "id": "yLzY4nEs_rAN",
        "colab": {
          "base_uri": "https://localhost:8080/",
          "height": 295
        },
        "outputId": "6f19e5e5-6f7e-41c2-93ec-79a636f7ec68"
      },
      "source": [
        "fig,(ax1,ax2)=plt.subplots(1,2,figsize=(12,4))\n",
        "#diff() will give the discrete difference of individual values.\n",
        "sns.barplot(x=week_number,y=pd.Series(weekwise_confirmed).diff().fillna(0),ax=ax1)\n",
        "sns.barplot(x=week_number,y=pd.Series(weekwise_deaths).diff().fillna(0),ax=ax2)\n",
        "ax1.set_xlabel(\"Week Number\")\n",
        "ax2.set_ylabel(\"Week Number\")\n",
        "ax1.set_xlabel(\"Number of Confirmed Cases\")\n",
        "ax2.set_ylabel(\"Number of death cases\")\n",
        "ax1.set_title(\"Weekly increase in the confirmed cases\")\n",
        "ax2.set_title(\"Weekly increase in the death cases\")\n",
        "plt.show()"
      ],
      "execution_count": null,
      "outputs": [
        {
          "output_type": "display_data",
          "data": {
            "image/png": "[encoded data removed]",
            "text/plain": [
              "<Figure size 864x288 with 2 Axes>"
            ]
          },
          "metadata": {
            "tags": [],
            "needs_background": "light"
          }
        }
      ]
    },
    {
      "cell_type": "code",
      "metadata": {
        "id": "vOQntM-d_rAS",
        "colab": {
          "base_uri": "https://localhost:8080/",
          "height": 67
        },
        "outputId": "4ef08197-4945-493b-9a34-dd3da592ec5c"
      },
      "source": [
        "print(\"Average increase of confirmed cases:\",np.round(df_datewise[\"Confirmed\"].diff().fillna(0).mean()))\n",
        "print(\"Average increase of recovered cases:\",np.round(df_datewise[\"Recovered\"].diff().fillna(0).mean()))\n",
        "print(\"Average increase of death cases:\",np.round(df_datewise[\"Deaths\"].diff().fillna(0).mean()))"
      ],
      "execution_count": null,
      "outputs": [
        {
          "output_type": "stream",
          "text": [
            "Average increase of confirmed cases: 29900.0\n",
            "Average increase of recovered cases: 8442.0\n",
            "Average increase of death cases: 2097.0\n"
          ],
          "name": "stdout"
        }
      ]
    },
    {
      "cell_type": "code",
      "metadata": {
        "id": "qC14zgTl_rAY",
        "colab": {
          "base_uri": "https://localhost:8080/",
          "height": 452
        },
        "outputId": "14bb793e-bea5-481a-9762-5a56845704a8"
      },
      "source": [
        "plt.figure(figsize=(15,6))\n",
        "\n",
        "plt.plot(df_datewise[\"Confirmed\"].diff().fillna(0),label=\"Daily Increase in Confirmed Cases\",linewidth=3)\n",
        "\n",
        "plt.plot(df_datewise[\"Recovered\"].diff().fillna(0),label=\"Daily Increase in Recovered Cases\",linewidth=3)\n",
        "\n",
        "plt.plot(df_datewise[\"Deaths\"].diff().fillna(0),label=\"Daily Increase in Death Cases\",linewidth=3)\n",
        "\n",
        "plt.xlabel(\"Timestamp\")\n",
        "plt.ylabel(\"Daily increase\")\n",
        "plt.title(\"Daily increase\")\n",
        "plt.legend()\n",
        "plt.xticks(rotation=90)\n",
        "plt.show()"
      ],
      "execution_count": null,
      "outputs": [
        {
          "output_type": "display_data",
          "data": {
            "image/png": "[encoded data removed]",
            "text/plain": [
              "<Figure size 1080x432 with 1 Axes>"
            ]
          },
          "metadata": {
            "tags": [],
            "needs_background": "light"
          }
        }
      ]
    },
    {
      "cell_type": "code",
      "metadata": {
        "id": "7GJF811l_rAc"
      },
      "source": [
        "#Country wise analysis\n",
        "#Country wise mortality rate\n",
        "\n",
        "countrywise = df[df[\"ObservationDate\"]==df[\"ObservationDate\"].max()].groupby([\"Country/Region\"]).agg({\"Confirmed\":\"sum\",\"Recovered\":\"sum\",\"Deaths\":\"sum\"}).sort_values([\"Confirmed\"],ascending=False)\n",
        "countrywise[\"mortality\"] = (countrywise[\"Deaths\"]/countrywise[\"Recovered\"])*100\n",
        "countrywise[\"recovered\"] = (countrywise[\"Recovered\"]/countrywise[\"Confirmed\"])*100"
      ],
      "execution_count": null,
      "outputs": []
    },
    {
      "cell_type": "code",
      "metadata": {
        "id": "74qJO5_h_rAi",
        "colab": {
          "base_uri": "https://localhost:8080/",
          "height": 480
        },
        "outputId": "b1d09dc7-7c2d-4aae-f80e-c8509fbd4564"
      },
      "source": [
        "fig,(ax1,ax2)=plt.subplots(1,2,figsize=(25,10))\n",
        "top_10_confirmed = countrywise.sort_values([\"Confirmed\"],ascending=False).head(10)\n",
        "top_10_deaths = countrywise.sort_values([\"Deaths\"],ascending=False).head(10)\n",
        "\n",
        "sns.barplot(x=top_10_confirmed[\"Confirmed\"],y=top_10_confirmed.index,ax=ax1)\n",
        "sns.barplot(x=top_10_confirmed[\"Deaths\"],y=top_10_deaths.index,ax=ax2)\n",
        "ax1.set_title(\"Top 10 countries of confirmed cases\")\n",
        "ax2.set_title(\"Top 10 countries of death cases\")"
      ],
      "execution_count": null,
      "outputs": [
        {
          "output_type": "execute_result",
          "data": {
            "text/plain": [
              "Text(0.5, 1.0, 'Top 10 countries of death cases')"
            ]
          },
          "metadata": {
            "tags": []
          },
          "execution_count": 22
        },
        {
          "output_type": "display_data",
          "data": {
            "image/png": "[encoded data removed]",
            "text/plain": [
              "<Figure size 1800x720 with 2 Axes>"
            ]
          },
          "metadata": {
            "tags": [],
            "needs_background": "light"
          }
        }
      ]
    },
    {
      "cell_type": "code",
      "metadata": {
        "id": "IqBibhAE_rAm",
        "colab": {
          "base_uri": "https://localhost:8080/",
          "height": 151
        },
        "outputId": "53ef12d1-1b21-4dcd-e242-acfa5dfafc72"
      },
      "source": [
        "#Now Data Analysis for INDIA\n",
        "\n",
        "india_data = df[df[\"Country/Region\"]==\"India\"]\n",
        "india_datewise = india_data.groupby([\"ObservationDate\"]).agg({\"Confirmed\":\"sum\",\"Recovered\":\"sum\",\"Deaths\":\"sum\"})\n",
        "print(india_datewise.iloc[-1])\n",
        "\n",
        "print(\"Total Active Cases in India\")\n",
        "print(india_datewise[\"Confirmed\"].iloc[-1]-india_datewise[\"Recovered\"].iloc[-1]-\n",
        "india_datewise[\"Deaths\"].iloc[-1])\n",
        "print(\"Total Closes Cases in India\")\n",
        "print(india_datewise[\"Recovered\"].iloc[-1]+\n",
        "india_datewise[\"Deaths\"].iloc[-1])\n"
      ],
      "execution_count": null,
      "outputs": [
        {
          "output_type": "stream",
          "text": [
            "Confirmed    24530.0\n",
            "Recovered     5498.0\n",
            "Deaths         780.0\n",
            "Name: 2020-04-24 00:00:00, dtype: float64\n",
            "Total Active Cases in India\n",
            "18252.0\n",
            "Total Closes Cases in India\n",
            "6278.0\n"
          ],
          "name": "stdout"
        }
      ]
    },
    {
      "cell_type": "code",
      "metadata": {
        "id": "AYEiBQzF_rAq",
        "colab": {
          "base_uri": "https://localhost:8080/",
          "height": 151
        },
        "outputId": "e8fa1348-1a60-4c2e-a33d-c064eebb305b"
      },
      "source": [
        "#Data Analysis for US\n",
        "\n",
        "us_data = df[df[\"Country/Region\"]==\"US\"]\n",
        "us_datewise = us_data.groupby([\"ObservationDate\"]).agg({\"Confirmed\":\"sum\",\"Recovered\":\"sum\",\"Deaths\":\"sum\"})\n",
        "print(us_datewise.iloc[-1])\n",
        "\n",
        "print(\"Total Active Cases in US\")\n",
        "print(us_datewise[\"Confirmed\"].iloc[-1]-us_datewise[\"Recovered\"].iloc[-1]-\n",
        "us_datewise[\"Deaths\"].iloc[-1])\n",
        "print(\"Total Closes Cases in US\")\n",
        "print(us_datewise[\"Recovered\"].iloc[-1]+\n",
        "us_datewise[\"Deaths\"].iloc[-1])\n"
      ],
      "execution_count": null,
      "outputs": [
        {
          "output_type": "stream",
          "text": [
            "Confirmed    905333.0\n",
            "Recovered     99079.0\n",
            "Deaths        51949.0\n",
            "Name: 2020-04-24 00:00:00, dtype: float64\n",
            "Total Active Cases in US\n",
            "754305.0\n",
            "Total Closes Cases in US\n",
            "151028.0\n"
          ],
          "name": "stdout"
        }
      ]
    },
    {
      "cell_type": "code",
      "metadata": {
        "id": "iKHOzDQ5_rAu",
        "colab": {
          "base_uri": "https://localhost:8080/",
          "height": 367
        },
        "outputId": "93ad8102-21d2-4629-ca04-8dae2721ff01"
      },
      "source": [
        "#Lets do it in weekwise for INDIA\n",
        "\n",
        "india_datewise[\"Week of Year\"] = india_datewise.index.weekofyear\n",
        "india_week_number = []\n",
        "india_weekwise_confirmed = []\n",
        "india_weekwise_deaths = []\n",
        "india_weekwise_recovered = []\n",
        "india_w = 1\n",
        "for i in list(india_datewise['Week of Year'].unique()):\n",
        "    india_weekwise_confirmed.append(india_datewise[india_datewise[\"Week of Year\"] == i][\"Confirmed\"].iloc[-1])\n",
        "    india_weekwise_recovered.append(india_datewise[india_datewise[\"Week of Year\"] == i][\"Recovered\"].iloc[-1])\n",
        "    india_weekwise_deaths.append(india_datewise[india_datewise[\"Week of Year\"] == i][\"Deaths\"].iloc[-1])\n",
        "    india_week_number.append(w)\n",
        "    india_w = india_w + 1\n",
        "    \n",
        "plt.figure(figsize=(8,5))\n",
        "plt.plot(india_weekwise_confirmed,linewidth=3)\n",
        "plt.plot(india_weekwise_recovered,linewidth=3)\n",
        "plt.plot(india_weekwise_deaths,linewidth=3)\n",
        "plt.xlabel(\"Week Number\")\n",
        "plt.ylabel(\"Number of Cases\")\n",
        "plt.title(\"Weekly progress of different types of Cases in INDIA\")\n",
        "\n"
      ],
      "execution_count": null,
      "outputs": [
        {
          "output_type": "execute_result",
          "data": {
            "text/plain": [
              "Text(0.5, 1.0, 'Weekly progress of different types of Cases in INDIA')"
            ]
          },
          "metadata": {
            "tags": []
          },
          "execution_count": 25
        },
        {
          "output_type": "display_data",
          "data": {
            "image/png": "[encoded data removed]",
            "text/plain": [
              "<Figure size 576x360 with 1 Axes>"
            ]
          },
          "metadata": {
            "tags": [],
            "needs_background": "light"
          }
        }
      ]
    },
    {
      "cell_type": "code",
      "metadata": {
        "id": "NIK0CvOW_rAy",
        "colab": {
          "base_uri": "https://localhost:8080/",
          "height": 101
        },
        "outputId": "32133e41-0421-4b82-84a4-a116f0239717"
      },
      "source": [
        "max_ind = india_datewise[\"Confirmed\"].max()\n",
        "china_data = df[df[\"Country/Region\"]==\"Mainland China\"]\n",
        "italy_data = df[df[\"Country/Region\"]==\"Italy\"]\n",
        "spain_data = df[df[\"Country/Region\"]==\"Spain\"]\n",
        "\n",
        "china_datewise = china_data.groupby([\"ObservationDate\"]).agg({\"Confirmed\":\"sum\",\"Recovered\":\"sum\",\"Deaths\":\"sum\"})\n",
        "italy_datewise = italy_data.groupby([\"ObservationDate\"]).agg({\"Confirmed\":\"sum\",\"Recovered\":\"sum\",\"Deaths\":\"sum\"})\n",
        "spain_datewise = spain_data.groupby([\"ObservationDate\"]).agg({\"Confirmed\":\"sum\",\"Recovered\":\"sum\",\"Deaths\":\"sum\"})\n",
        "\n",
        "print(\"It took\",india_datewise[india_datewise[\"Confirmed\"]>0].shape[0],\"days in India to reach\",max_ind,\"confirmed cases\")\n",
        "print(\"It took\",italy_datewise[(italy_datewise[\"Confirmed\"]>0) & (italy_datewise[\"Confirmed\"]<=max_ind)].shape[0],\"in Italy to reach the confirmed cases\")\n",
        "print(\"It took\",us_datewise[(us_datewise[\"Confirmed\"]>0) & (us_datewise[\"Confirmed\"]<=max_ind)].shape[0],\"in US to reach the confirmed cases\")   \n",
        "print(\"It took\",spain_datewise[(spain_datewise[\"Confirmed\"]>0) & (spain_datewise[\"Confirmed\"]<=max_ind)].shape[0],\"in Italy to reach the confirmed cases\")                            \n",
        "print(\"It took\",china_datewise[(china_datewise[\"Confirmed\"]>0) & (china_datewise[\"Confirmed\"]<=max_ind)].shape[0],\"in Italy to reach the confirmed cases\")                               "
      ],
      "execution_count": null,
      "outputs": [
        {
          "output_type": "stream",
          "text": [
            "It took 86 days in India to reach 24530.0 confirmed cases\n",
            "It took 44 in Italy to reach the confirmed cases\n",
            "It took 59 in US to reach the confirmed cases\n",
            "It took 49 in Italy to reach the confirmed cases\n",
            "It took 14 in Italy to reach the confirmed cases\n"
          ],
          "name": "stdout"
        }
      ]
    },
    {
      "cell_type": "code",
      "metadata": {
        "id": "IPoqpopB_rA4"
      },
      "source": [
        "df_datewise[\"Days Since\"] = df_datewise.index-df_datewise.index[0]\n",
        "df_datewise[\"Days Since\"] = df_datewise[\"Days Since\"].dt.days\n",
        "\n",
        "train = df_datewise.iloc[:int(df_datewise.shape[0]*0.95)]\n",
        "test = df_datewise.iloc[:int(df_datewise.shape[0]*0.95):]\n",
        "\n",
        "model_scores = []"
      ],
      "execution_count": null,
      "outputs": []
    },
    {
      "cell_type": "code",
      "metadata": {
        "id": "MG6M7DGf_rA8"
      },
      "source": [
        " #reg = LinearRegression().fit(train, test)"
      ],
      "execution_count": null,
      "outputs": []
    },
    {
      "cell_type": "code",
      "metadata": {
        "id": "2e93kmQO_rBA",
        "colab": {
          "base_uri": "https://localhost:8080/",
          "height": 104
        },
        "outputId": "544721f1-869f-49a5-e457-98e997266399"
      },
      "source": [
        "lin_reg = LinearRegression(normalize=True)\n",
        "svm = SVR(C=1,degree=5,kernel='poly',epsilon=0.001)\n",
        "lin_reg.fit(np.array(train['Days Since']).reshape(-1,1),np.array(train[\"Confirmed\"]).reshape(-1,1))\n",
        "svm.fit(np.array(train['Days Since']).reshape(-1,1),np.array(train[\"Confirmed\"]).reshape(-1,1))"
      ],
      "execution_count": null,
      "outputs": [
        {
          "output_type": "stream",
          "text": [
            "/usr/local/lib/python3.6/dist-packages/sklearn/utils/validation.py:760: DataConversionWarning: A column-vector y was passed when a 1d array was expected. Please change the shape of y to (n_samples, ), for example using ravel().\n",
            "  y = column_or_1d(y, warn=True)\n"
          ],
          "name": "stderr"
        },
        {
          "output_type": "execute_result",
          "data": {
            "text/plain": [
              "SVR(C=1, cache_size=200, coef0=0.0, degree=5, epsilon=0.001, gamma='scale',\n",
              "    kernel='poly', max_iter=-1, shrinking=True, tol=0.001, verbose=False)"
            ]
          },
          "metadata": {
            "tags": []
          },
          "execution_count": 31
        }
      ]
    },
    {
      "cell_type": "code",
      "metadata": {
        "id": "6DaMIkYx_rBE"
      },
      "source": [
        "pred_test_lin_reg = lin_reg.predict(np.array(test['Days Since']).reshape(-1,1))\n",
        "pred_test_svm = svm.predict(np.array(test['Days Since']).reshape(-1,1))"
      ],
      "execution_count": null,
      "outputs": []
    },
    {
      "cell_type": "code",
      "metadata": {
        "id": "3lTzN0Jl_rBH",
        "colab": {
          "base_uri": "https://localhost:8080/",
          "height": 343
        },
        "outputId": "247aa881-c255-4dd2-e5a8-7812c698c961"
      },
      "source": [
        "new_date = []\n",
        "new_pred_lr = []\n",
        "new_pred_svm = []\n",
        "for i in range(1,18):\n",
        "  new_date.append(df_datewise.index[-1]+timedelta(days=i))\n",
        "  new_pred_lr.append(lin_reg.predict(np.array(df_datewise[\"Days Since\"].max()+i).reshape(-1,1))[0][0])\n",
        "  new_pred_svm.append(svm.predict(np.array(df_datewise[\"Days Since\"].max()+i).reshape(-1,1))[0])\n",
        "pd.set_option(\"display.float_format\",lambda x: '%f'%x)\n",
        "model_pred = pd.DataFrame(zip(new_date,new_pred_lr,new_pred_svm),columns=[\"Dates\",\"LR\",\"SVR\"])\n",
        "model_pred.head(10)  \n",
        "\n"
      ],
      "execution_count": null,
      "outputs": [
        {
          "output_type": "execute_result",
          "data": {
            "text/html": [
              "<div>\n",
              "<style scoped>\n",
              "    .dataframe tbody tr th:only-of-type {\n",
              "        vertical-align: middle;\n",
              "    }\n",
              "\n",
              "    .dataframe tbody tr th {\n",
              "        vertical-align: top;\n",
              "    }\n",
              "\n",
              "    .dataframe thead th {\n",
              "        text-align: right;\n",
              "    }\n",
              "</style>\n",
              "<table border=\"1\" class=\"dataframe\">\n",
              "  <thead>\n",
              "    <tr style=\"text-align: right;\">\n",
              "      <th></th>\n",
              "      <th>Dates</th>\n",
              "      <th>LR</th>\n",
              "      <th>SVR</th>\n",
              "    </tr>\n",
              "  </thead>\n",
              "  <tbody>\n",
              "    <tr>\n",
              "      <th>0</th>\n",
              "      <td>2020-04-25</td>\n",
              "      <td>1560528.581035</td>\n",
              "      <td>3322585.504228</td>\n",
              "    </tr>\n",
              "    <tr>\n",
              "      <th>1</th>\n",
              "      <td>2020-04-26</td>\n",
              "      <td>1582218.776251</td>\n",
              "      <td>3500761.275228</td>\n",
              "    </tr>\n",
              "    <tr>\n",
              "      <th>2</th>\n",
              "      <td>2020-04-27</td>\n",
              "      <td>1603908.971467</td>\n",
              "      <td>3686599.219424</td>\n",
              "    </tr>\n",
              "    <tr>\n",
              "      <th>3</th>\n",
              "      <td>2020-04-28</td>\n",
              "      <td>1625599.166684</td>\n",
              "      <td>3880343.847022</td>\n",
              "    </tr>\n",
              "    <tr>\n",
              "      <th>4</th>\n",
              "      <td>2020-04-29</td>\n",
              "      <td>1647289.361900</td>\n",
              "      <td>4082244.815529</td>\n",
              "    </tr>\n",
              "    <tr>\n",
              "      <th>5</th>\n",
              "      <td>2020-04-30</td>\n",
              "      <td>1668979.557116</td>\n",
              "      <td>4292556.983370</td>\n",
              "    </tr>\n",
              "    <tr>\n",
              "      <th>6</th>\n",
              "      <td>2020-05-01</td>\n",
              "      <td>1690669.752332</td>\n",
              "      <td>4511540.463507</td>\n",
              "    </tr>\n",
              "    <tr>\n",
              "      <th>7</th>\n",
              "      <td>2020-05-02</td>\n",
              "      <td>1712359.947549</td>\n",
              "      <td>4739460.677057</td>\n",
              "    </tr>\n",
              "    <tr>\n",
              "      <th>8</th>\n",
              "      <td>2020-05-03</td>\n",
              "      <td>1734050.142765</td>\n",
              "      <td>4976588.406909</td>\n",
              "    </tr>\n",
              "    <tr>\n",
              "      <th>9</th>\n",
              "      <td>2020-05-04</td>\n",
              "      <td>1755740.337981</td>\n",
              "      <td>5223199.851339</td>\n",
              "    </tr>\n",
              "  </tbody>\n",
              "</table>\n",
              "</div>"
            ],
            "text/plain": [
              "       Dates             LR            SVR\n",
              "0 2020-04-25 1560528.581035 3322585.504228\n",
              "1 2020-04-26 1582218.776251 3500761.275228\n",
              "2 2020-04-27 1603908.971467 3686599.219424\n",
              "3 2020-04-28 1625599.166684 3880343.847022\n",
              "4 2020-04-29 1647289.361900 4082244.815529\n",
              "5 2020-04-30 1668979.557116 4292556.983370\n",
              "6 2020-05-01 1690669.752332 4511540.463507\n",
              "7 2020-05-02 1712359.947549 4739460.677057\n",
              "8 2020-05-03 1734050.142765 4976588.406909\n",
              "9 2020-05-04 1755740.337981 5223199.851339"
            ]
          },
          "metadata": {
            "tags": []
          },
          "execution_count": 37
        }
      ]
    },
    {
      "cell_type": "code",
      "metadata": {
        "id": "HohqahnsDWwl"
      },
      "source": [
        "model_train = df_datewise.iloc[:int(df_datewise.shape[0]*0.85)]\n",
        "valid = df_datewise.iloc[int(df_datewise.shape[0]*0.85)]"
      ],
      "execution_count": null,
      "outputs": []
    },
    {
      "cell_type": "code",
      "metadata": {
        "id": "iLtBId80FJIL"
      },
      "source": [
        "from statsmodels.tsa.api import Holt"
      ],
      "execution_count": null,
      "outputs": []
    },
    {
      "cell_type": "code",
      "metadata": {
        "id": "lkKR3lIxFVL5"
      },
      "source": [
        "holt = Holt(np.asarray(model_train[\"Confirmed\"])).fit(smoothing_level=1.4,smoothing_slope=0.2)\n",
        "y_pred = valid.copy()\n",
        "y_pred[\"Holt\"] = holt.forecast(len(valid))\n"
      ],
      "execution_count": null,
      "outputs": []
    },
    {
      "cell_type": "code",
      "metadata": {
        "id": "bEWokHzHGHYG",
        "colab": {
          "base_uri": "https://localhost:8080/",
          "height": 195
        },
        "outputId": "7e9adac6-940b-41cd-efb3-a12ae1c32e2e"
      },
      "source": [
        "holt_new_date = []\n",
        "holt_new_pred = []\n",
        "for i in range(1,18):\n",
        "  holt_new_date.append(df_datewise.index[-1]+timedelta(days=i))\n",
        "  holt_new_pred.append(holt.forecast((len(valid)+1))[-1])\n",
        "\n",
        "model_pred[\"Holt prediction\"]=holt_new_pred\n",
        "\n",
        "model_pred.head(5) \n"
      ],
      "execution_count": null,
      "outputs": [
        {
          "output_type": "execute_result",
          "data": {
            "text/html": [
              "<div>\n",
              "<style scoped>\n",
              "    .dataframe tbody tr th:only-of-type {\n",
              "        vertical-align: middle;\n",
              "    }\n",
              "\n",
              "    .dataframe tbody tr th {\n",
              "        vertical-align: top;\n",
              "    }\n",
              "\n",
              "    .dataframe thead th {\n",
              "        text-align: right;\n",
              "    }\n",
              "</style>\n",
              "<table border=\"1\" class=\"dataframe\">\n",
              "  <thead>\n",
              "    <tr style=\"text-align: right;\">\n",
              "      <th></th>\n",
              "      <th>Dates</th>\n",
              "      <th>LR</th>\n",
              "      <th>SVR</th>\n",
              "      <th>Holt new linear prediction</th>\n",
              "      <th>Holt prediction</th>\n",
              "    </tr>\n",
              "  </thead>\n",
              "  <tbody>\n",
              "    <tr>\n",
              "      <th>0</th>\n",
              "      <td>2020-04-25</td>\n",
              "      <td>1560528.581035</td>\n",
              "      <td>3322585.504228</td>\n",
              "      <td>2068685.550544</td>\n",
              "      <td>2068685.550544</td>\n",
              "    </tr>\n",
              "    <tr>\n",
              "      <th>1</th>\n",
              "      <td>2020-04-26</td>\n",
              "      <td>1582218.776251</td>\n",
              "      <td>3500761.275228</td>\n",
              "      <td>2068685.550544</td>\n",
              "      <td>2068685.550544</td>\n",
              "    </tr>\n",
              "    <tr>\n",
              "      <th>2</th>\n",
              "      <td>2020-04-27</td>\n",
              "      <td>1603908.971467</td>\n",
              "      <td>3686599.219424</td>\n",
              "      <td>2068685.550544</td>\n",
              "      <td>2068685.550544</td>\n",
              "    </tr>\n",
              "    <tr>\n",
              "      <th>3</th>\n",
              "      <td>2020-04-28</td>\n",
              "      <td>1625599.166684</td>\n",
              "      <td>3880343.847022</td>\n",
              "      <td>2068685.550544</td>\n",
              "      <td>2068685.550544</td>\n",
              "    </tr>\n",
              "    <tr>\n",
              "      <th>4</th>\n",
              "      <td>2020-04-29</td>\n",
              "      <td>1647289.361900</td>\n",
              "      <td>4082244.815529</td>\n",
              "      <td>2068685.550544</td>\n",
              "      <td>2068685.550544</td>\n",
              "    </tr>\n",
              "  </tbody>\n",
              "</table>\n",
              "</div>"
            ],
            "text/plain": [
              "       Dates             LR  ...  Holt new linear prediction  Holt prediction\n",
              "0 2020-04-25 1560528.581035  ...              2068685.550544   2068685.550544\n",
              "1 2020-04-26 1582218.776251  ...              2068685.550544   2068685.550544\n",
              "2 2020-04-27 1603908.971467  ...              2068685.550544   2068685.550544\n",
              "3 2020-04-28 1625599.166684  ...              2068685.550544   2068685.550544\n",
              "4 2020-04-29 1647289.361900  ...              2068685.550544   2068685.550544\n",
              "\n",
              "[5 rows x 5 columns]"
            ]
          },
          "metadata": {
            "tags": []
          },
          "execution_count": 50
        }
      ]
    },
    {
      "cell_type": "code",
      "metadata": {
        "id": "FXRJvDX3HDEq",
        "colab": {
          "base_uri": "https://localhost:8080/",
          "height": 195
        },
        "outputId": "2cb1ae10-5638-47c0-e88e-51e3b3a01048"
      },
      "source": [
        "model_pred.drop(['Holt new linear prediction'], axis=1).head(5)"
      ],
      "execution_count": null,
      "outputs": [
        {
          "output_type": "execute_result",
          "data": {
            "text/html": [
              "<div>\n",
              "<style scoped>\n",
              "    .dataframe tbody tr th:only-of-type {\n",
              "        vertical-align: middle;\n",
              "    }\n",
              "\n",
              "    .dataframe tbody tr th {\n",
              "        vertical-align: top;\n",
              "    }\n",
              "\n",
              "    .dataframe thead th {\n",
              "        text-align: right;\n",
              "    }\n",
              "</style>\n",
              "<table border=\"1\" class=\"dataframe\">\n",
              "  <thead>\n",
              "    <tr style=\"text-align: right;\">\n",
              "      <th></th>\n",
              "      <th>Dates</th>\n",
              "      <th>LR</th>\n",
              "      <th>SVR</th>\n",
              "      <th>Holt prediction</th>\n",
              "    </tr>\n",
              "  </thead>\n",
              "  <tbody>\n",
              "    <tr>\n",
              "      <th>0</th>\n",
              "      <td>2020-04-25</td>\n",
              "      <td>1560528.581035</td>\n",
              "      <td>3322585.504228</td>\n",
              "      <td>2068685.550544</td>\n",
              "    </tr>\n",
              "    <tr>\n",
              "      <th>1</th>\n",
              "      <td>2020-04-26</td>\n",
              "      <td>1582218.776251</td>\n",
              "      <td>3500761.275228</td>\n",
              "      <td>2068685.550544</td>\n",
              "    </tr>\n",
              "    <tr>\n",
              "      <th>2</th>\n",
              "      <td>2020-04-27</td>\n",
              "      <td>1603908.971467</td>\n",
              "      <td>3686599.219424</td>\n",
              "      <td>2068685.550544</td>\n",
              "    </tr>\n",
              "    <tr>\n",
              "      <th>3</th>\n",
              "      <td>2020-04-28</td>\n",
              "      <td>1625599.166684</td>\n",
              "      <td>3880343.847022</td>\n",
              "      <td>2068685.550544</td>\n",
              "    </tr>\n",
              "    <tr>\n",
              "      <th>4</th>\n",
              "      <td>2020-04-29</td>\n",
              "      <td>1647289.361900</td>\n",
              "      <td>4082244.815529</td>\n",
              "      <td>2068685.550544</td>\n",
              "    </tr>\n",
              "  </tbody>\n",
              "</table>\n",
              "</div>"
            ],
            "text/plain": [
              "       Dates             LR            SVR  Holt prediction\n",
              "0 2020-04-25 1560528.581035 3322585.504228   2068685.550544\n",
              "1 2020-04-26 1582218.776251 3500761.275228   2068685.550544\n",
              "2 2020-04-27 1603908.971467 3686599.219424   2068685.550544\n",
              "3 2020-04-28 1625599.166684 3880343.847022   2068685.550544\n",
              "4 2020-04-29 1647289.361900 4082244.815529   2068685.550544"
            ]
          },
          "metadata": {
            "tags": []
          },
          "execution_count": 52
        }
      ]
    },
    {
      "cell_type": "code",
      "metadata": {
        "id": "X6953uQKH14k"
      },
      "source": [
        ""
      ],
      "execution_count": null,
      "outputs": []
    }
  ]
}